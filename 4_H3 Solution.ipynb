{
 "cells": [
  {
   "cell_type": "code",
   "execution_count": 1,
   "metadata": {},
   "outputs": [],
   "source": [
    "#importing all the required libraries\n",
    "import time\n",
    "import scipy.io\n",
    "import numpy as np\n",
    "import pandas as po\n",
    "from tqdm.notebook import tqdm\n",
    "import matplotlib.pyplot as plt\n",
    "import seaborn as sns\n",
    "from sklearn.metrics import accuracy_score\n",
    "from sklearn.preprocessing import OneHotEncoder\n",
    "from sklearn.neighbors import KNeighborsClassifier\n",
    "from sklearn.svm import LinearSVC\n",
    "from sklearn.svm import SVC\n",
    "from sklearn.ensemble import RandomForestClassifier\n",
    "from sklearn.model_selection import train_test_split\n",
    "import warnings\n",
    "warnings.filterwarnings(\"ignore\")"
   ]
  },
  {
   "cell_type": "code",
   "execution_count": 2,
   "metadata": {},
   "outputs": [],
   "source": [
    "#loading the dataset\n",
    "mat = scipy.io.loadmat('usps_all.mat')"
   ]
  },
  {
   "cell_type": "code",
   "execution_count": 3,
   "metadata": {},
   "outputs": [
    {
     "data": {
      "text/plain": [
       "dict_keys(['__header__', '__version__', '__globals__', 'data'])"
      ]
     },
     "execution_count": 3,
     "metadata": {},
     "output_type": "execute_result"
    }
   ],
   "source": [
    "mat.keys()"
   ]
  },
  {
   "cell_type": "code",
   "execution_count": 4,
   "metadata": {},
   "outputs": [
    {
     "data": {
      "text/plain": [
       "(256, 1100, 10)"
      ]
     },
     "execution_count": 4,
     "metadata": {},
     "output_type": "execute_result"
    }
   ],
   "source": [
    "# Dataset shapes\n",
    "mat['data'].shape"
   ]
  },
  {
   "cell_type": "code",
   "execution_count": 5,
   "metadata": {},
   "outputs": [
    {
     "data": {
      "text/plain": [
       "(256, 1100)"
      ]
     },
     "execution_count": 5,
     "metadata": {},
     "output_type": "execute_result"
    }
   ],
   "source": [
    "mat['data'][:, :, 0].shape"
   ]
  },
  {
   "cell_type": "code",
   "execution_count": 6,
   "metadata": {},
   "outputs": [
    {
     "data": {
      "text/plain": [
       "(10, 1100, 256)"
      ]
     },
     "execution_count": 6,
     "metadata": {},
     "output_type": "execute_result"
    }
   ],
   "source": [
    "mat['data'].transpose(2, 1, 0).shape"
   ]
  },
  {
   "cell_type": "code",
   "execution_count": 7,
   "metadata": {},
   "outputs": [
    {
     "data": {
      "text/plain": [
       "(11000,)"
      ]
     },
     "execution_count": 7,
     "metadata": {},
     "output_type": "execute_result"
    }
   ],
   "source": [
    "np.array([[i]*1100 for i in range(10)]).reshape(-1).shape"
   ]
  },
  {
   "cell_type": "code",
   "execution_count": 8,
   "metadata": {},
   "outputs": [
    {
     "data": {
      "text/plain": [
       "(6000, 256)"
      ]
     },
     "execution_count": 8,
     "metadata": {},
     "output_type": "execute_result"
    }
   ],
   "source": [
    "# In order to check how to do the splits of train and test set\n",
    "np.vstack([mat['data'].transpose(2, 1, 0)[i, :600, :] for i in range(10)]).shape"
   ]
  },
  {
   "cell_type": "markdown",
   "metadata": {},
   "source": [
    "- Divide the set of handwritten digits into two classes, 0s and rest(i.e not zero) <br>\n",
    "- Divide both the classes into training set of 550 eamples of each digit and testing set of remaining digits<br>\n",
    "- This way training set has 550 examples of zero and 4950 examples of Euclidean metric with fixed k=20<br>\n",
    "  to verify global classification rate of your testing set"
   ]
  },
  {
   "cell_type": "code",
   "execution_count": 9,
   "metadata": {},
   "outputs": [],
   "source": [
    "# Creating the training and testing set\n",
    "X_train = np.vstack([mat['data'].transpose(2, 1, 0)[i, :550, :] for i in range(10)])\n",
    "X_test = np.vstack([mat['data'].transpose(2, 1, 0)[i, 550:, :] for i in range(10)])"
   ]
  },
  {
   "cell_type": "code",
   "execution_count": 10,
   "metadata": {},
   "outputs": [],
   "source": [
    "y_train = np.array([[0]*550 + [1]*(550*9)]).reshape(-1)\n",
    "y_test = np.array([[0]*550 + [1]*(550*9)]).reshape(-1)"
   ]
  },
  {
   "cell_type": "code",
   "execution_count": 11,
   "metadata": {},
   "outputs": [
    {
     "name": "stdout",
     "output_type": "stream",
     "text": [
      "(5500, 256)\n",
      "(5500,)\n",
      "(5500, 256)\n",
      "(5500,)\n"
     ]
    }
   ],
   "source": [
    "# checking whether train and test have similar \n",
    "print(X_train.shape)\n",
    "print(y_train.shape)\n",
    "print(X_test.shape)\n",
    "print(y_test.shape)"
   ]
  },
  {
   "cell_type": "code",
   "execution_count": 12,
   "metadata": {},
   "outputs": [
    {
     "name": "stdout",
     "output_type": "stream",
     "text": [
      "Number of images in train set = 5500, test set = 5500\n",
      "Accuracy using Euclidean Metric = 97.4545 %, training time = 1.1195 sec, prediction time = 35.2144 sec\n",
      "\n"
     ]
    }
   ],
   "source": [
    "# fit KNN classifier using euclidean metric and obtain predictions and accuracy\n",
    "scores = []\n",
    "print('Number of images in train set = {}, test set = {}'.format(X_train.shape[0], X_test.shape[0]))\n",
    "start_time = time.time()\n",
    "knn_clf = KNeighborsClassifier(n_neighbors=20, metric='euclidean') \n",
    "knn_clf.fit(X_train, y_train)\n",
    "ckpt_1 = time.time()\n",
    "y_pred = knn_clf.predict(X_test)\n",
    "ckpt_2 = time.time()\n",
    "scores.append(accuracy_score(y_test, y_pred))\n",
    "# We print the training time, prediction time and accuracy\n",
    "print('Accuracy using Euclidean Metric = {:.4f} %, training time = {:.4f} sec, prediction time = {:.4f} sec'.format(100*accuracy_score(y_test, y_pred), ckpt_1-start_time, ckpt_2-ckpt_1))\n",
    "print()"
   ]
  },
  {
   "cell_type": "code",
   "execution_count": 13,
   "metadata": {},
   "outputs": [
    {
     "name": "stdout",
     "output_type": "stream",
     "text": [
      "Number of images in train set = 5500, test set = 5500\n",
      "Accuracy using Linear SVM = 96.9818 %, training time = 0.3321 sec, prediction time = 0.0279 sec\n",
      "\n"
     ]
    }
   ],
   "source": [
    "# fit Linear SVC classifier and obtain predictions and accuracy\n",
    "print('Number of images in train set = {}, test set = {}'.format(X_train.shape[0], X_test.shape[0]))\n",
    "start_time = time.time()\n",
    "linsvm_clf = LinearSVC() \n",
    "linsvm_clf.fit(X_train, y_train)\n",
    "ckpt_1 = time.time()\n",
    "y_pred = linsvm_clf.predict(X_test)\n",
    "ckpt_2 = time.time()\n",
    "scores.append(accuracy_score(y_test, y_pred))\n",
    "# We print the training time, prediction time and accuracy\n",
    "print('Accuracy using Linear SVM = {:.4f} %, training time = {:.4f} sec, prediction time = {:.4f} sec'.format(100*accuracy_score(y_test, y_pred), ckpt_1-start_time, ckpt_2-ckpt_1))\n",
    "print()"
   ]
  },
  {
   "cell_type": "code",
   "execution_count": 14,
   "metadata": {},
   "outputs": [
    {
     "name": "stdout",
     "output_type": "stream",
     "text": [
      "Number of images in train set = 5500, test set = 5500\n",
      "Accuracy using non-linear SVM with \"rbf\" kernel = 99.8364 %, training time = 1.7887 sec, prediction time = 1.6183 sec\n",
      "\n"
     ]
    }
   ],
   "source": [
    "# fit SVC classifier using non-linear 'rbf' kernel and obtain predictions and accuracy\n",
    "print('Number of images in train set = {}, test set = {}'.format(X_train.shape[0], X_test.shape[0]))\n",
    "start_time = time.time()\n",
    "svc_clf = SVC(kernel = 'rbf') \n",
    "svc_clf.fit(X_train, y_train)\n",
    "ckpt_1 = time.time()\n",
    "y_pred = svc_clf.predict(X_test)\n",
    "ckpt_2 = time.time()\n",
    "scores.append(accuracy_score(y_test, y_pred))\n",
    "# We print the training time, prediction time and accuracy\n",
    "print('Accuracy using non-linear SVM with \"rbf\" kernel = {:.4f} %, training time = {:.4f} sec, prediction time = {:.4f} sec'.format(100*accuracy_score(y_test, y_pred), ckpt_1-start_time, ckpt_2-ckpt_1))\n",
    "print()"
   ]
  },
  {
   "cell_type": "code",
   "execution_count": 15,
   "metadata": {},
   "outputs": [
    {
     "data": {
      "text/plain": [
       "<AxesSubplot:>"
      ]
     },
     "execution_count": 15,
     "metadata": {},
     "output_type": "execute_result"
    },
    {
     "data": {
      "image/png": "[encoded data removed]",
      "text/plain": [
       "<Figure size 432x288 with 1 Axes>"
      ]
     },
     "metadata": {
      "needs_background": "light"
     },
     "output_type": "display_data"
    }
   ],
   "source": [
    "# Visualizing the accuracies using bar plot\n",
    "names = ['KNN','Linear SVM','Non-Linear SVM with rbf kernel']\n",
    "sns.barplot(x=names,y=scores)"
   ]
  },
  {
   "cell_type": "markdown",
   "metadata": {},
   "source": [
    "All the three classifiers perform equally well on the dataset. Linear SVM performs the worst among the three accuracy of 96.982%. KNN with Eucledian metric gives us an accuracy of 97.545%. The best performance is given by non-linear SVM which performs exceedingly well around 99.8364% acccurately. Eventhough KNN gives good accuracy, the computing time taken by it is way larger than that taken by others, it is approximately thirty times more than non-linear svm and 300 times more than that of linear svc !!"
   ]
  }
 ],
 "metadata": {
  "kernelspec": {
   "display_name": "Python 3",
   "language": "python",
   "name": "python3"
  },
  "language_info": {
   "codemirror_mode": {
    "name": "ipython",
    "version": 3
   },
   "file_extension": ".py",
   "mimetype": "text/x-python",
   "name": "python",
   "nbconvert_exporter": "python",
   "pygments_lexer": "ipython3",
   "version": "3.8.5"
  }
 },
 "nbformat": 4,
 "nbformat_minor": 4
}
